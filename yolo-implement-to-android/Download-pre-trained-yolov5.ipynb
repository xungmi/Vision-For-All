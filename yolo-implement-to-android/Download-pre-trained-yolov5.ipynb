{
 "cells": [
  {
   "cell_type": "markdown",
   "id": "4df8e043",
   "metadata": {},
   "source": [
    "# Tải pretrained yolo model"
   ]
  },
  {
   "cell_type": "code",
   "execution_count": null,
   "id": "a8321b9e",
   "metadata": {},
   "outputs": [
    {
     "name": "stderr",
     "output_type": "stream",
     "text": [
      "  % Total    % Received % Xferd  Average Speed   Time    Time     Time  Current\n",
      "                                 Dload  Upload   Total   Spent    Left  Speed\n",
      "\n",
      "  0     0    0     0    0     0      0      0 --:--:-- --:--:-- --:--:--     0\n",
      "  0     0    0     0    0     0      0      0 --:--:-- --:--:-- --:--:--     0\n",
      "  0     0    0     0    0     0      0      0 --:--:-- --:--:-- --:--:--     0\n",
      "\n",
      "  0     0    0     0    0     0      0      0 --:--:--  0:00:01 --:--:--     0\n",
      "  0     0    0     0    0     0      0      0 --:--:--  0:00:02 --:--:--     0\n",
      "100 14.1M  100 14.1M    0     0  5012k      0  0:00:02  0:00:02 --:--:-- 8701k\n"
     ]
    }
   ],
   "source": [
    "# !curl -LO https://github.com/ultralytics/yolov5/releases/download/v7.0/yolov5s.pt\n"
   ]
  },
  {
   "cell_type": "markdown",
   "id": "d52eee2c",
   "metadata": {},
   "source": [
    "# Cài đặt công cụ cần thiết"
   ]
  },
  {
   "cell_type": "markdown",
   "id": "72ad7f45",
   "metadata": {},
   "source": [
    "## Cài đặt môi trường với anaconda\n",
    "Tạo môi trường trước, rồi sử dụng các lệnh sau\n",
    "-\tList env:\n",
    "Conda env list\n",
    "-\tCheck version tương thích giữa tensorflow và python và cuda và cudnn trên window\n",
    "https://www.tensorflow.org/install/source_windows#gpu\n",
    " \n",
    "-\tInstall tensorflow tương thích với gpu:\n",
    "conda install -c conda-forge cudatoolkit=11.2 cudnn=8.1.0\n",
    "pip install \"tensorflow<2.11\"\n",
    "pip install \"numpy<2.0\"\n",
    "-\tCheck tf và active gpu thành công:\n",
    "python -c \"import tensorflow as tf; print(tf.config.list_physical_devices('GPU'))\"\n"
   ]
  },
  {
   "cell_type": "code",
   "execution_count": 1,
   "id": "a56f4a24",
   "metadata": {},
   "outputs": [
    {
     "name": "stdout",
     "output_type": "stream",
     "text": [
      "3.9.21 (main, Dec 11 2024, 16:35:24) [MSC v.1929 64 bit (AMD64)]\n"
     ]
    }
   ],
   "source": [
    "import sys\n",
    "print(sys.version)"
   ]
  },
  {
   "cell_type": "code",
   "execution_count": null,
   "id": "bed4c4b4",
   "metadata": {},
   "outputs": [
    {
     "name": "stdout",
     "output_type": "stream",
     "text": [
      "Collecting torch\n",
      "  Downloading torch-2.6.0-cp39-cp39-win_amd64.whl.metadata (28 kB)\n",
      "Collecting torchvision\n",
      "  Downloading torchvision-0.21.0-cp39-cp39-win_amd64.whl.metadata (6.3 kB)\n",
      "Collecting filelock (from torch)\n",
      "  Using cached filelock-3.18.0-py3-none-any.whl.metadata (2.9 kB)\n",
      "Requirement already satisfied: typing-extensions>=4.10.0 in f:\\anaconda\\envs\\tfx\\lib\\site-packages (from torch) (4.13.2)\n",
      "Collecting networkx (from torch)\n",
      "  Downloading networkx-3.2.1-py3-none-any.whl.metadata (5.2 kB)\n",
      "Collecting jinja2 (from torch)\n",
      "  Using cached jinja2-3.1.6-py3-none-any.whl.metadata (2.9 kB)\n",
      "Collecting fsspec (from torch)\n",
      "  Using cached fsspec-2025.3.2-py3-none-any.whl.metadata (11 kB)\n",
      "Collecting sympy==1.13.1 (from torch)\n",
      "  Using cached sympy-1.13.1-py3-none-any.whl.metadata (12 kB)\n",
      "Collecting mpmath<1.4,>=1.1.0 (from sympy==1.13.1->torch)\n",
      "  Using cached mpmath-1.3.0-py3-none-any.whl.metadata (8.6 kB)\n",
      "Requirement already satisfied: numpy in f:\\anaconda\\envs\\tfx\\lib\\site-packages (from torchvision) (1.26.4)\n",
      "Collecting pillow!=8.3.*,>=5.3.0 (from torchvision)\n",
      "  Downloading pillow-11.2.1-cp39-cp39-win_amd64.whl.metadata (9.1 kB)\n",
      "Requirement already satisfied: MarkupSafe>=2.0 in f:\\anaconda\\envs\\tfx\\lib\\site-packages (from jinja2->torch) (3.0.2)\n",
      "Downloading torch-2.6.0-cp39-cp39-win_amd64.whl (204.1 MB)\n",
      "   ---------------------------------------- 0.0/204.1 MB ? eta -:--:--\n",
      "   ---------------------------------------- 0.5/204.1 MB 5.7 MB/s eta 0:00:36\n",
      "   - -------------------------------------- 7.3/204.1 MB 25.2 MB/s eta 0:00:08\n",
      "   -- ------------------------------------- 13.4/204.1 MB 36.5 MB/s eta 0:00:06\n",
      "   ---- ----------------------------------- 25.4/204.1 MB 38.4 MB/s eta 0:00:05\n",
      "   ------- -------------------------------- 36.4/204.1 MB 40.6 MB/s eta 0:00:05\n",
      "   -------- ------------------------------- 44.3/204.1 MB 39.7 MB/s eta 0:00:05\n",
      "   ---------- ----------------------------- 51.4/204.1 MB 38.5 MB/s eta 0:00:04\n",
      "   ---------- ----------------------------- 54.0/204.1 MB 35.1 MB/s eta 0:00:05\n",
      "   ----------- ---------------------------- 57.1/204.1 MB 32.5 MB/s eta 0:00:05\n",
      "   ----------- ---------------------------- 60.3/204.1 MB 30.7 MB/s eta 0:00:05\n",
      "   ------------ --------------------------- 63.4/204.1 MB 29.1 MB/s eta 0:00:05\n",
      "   ------------- -------------------------- 66.8/204.1 MB 27.9 MB/s eta 0:00:05\n",
      "   ------------- -------------------------- 70.3/204.1 MB 27.0 MB/s eta 0:00:05\n",
      "   -------------- ------------------------- 73.7/204.1 MB 26.1 MB/s eta 0:00:05\n",
      "   --------------- ------------------------ 77.1/204.1 MB 25.3 MB/s eta 0:00:06\n",
      "   --------------- ------------------------ 80.5/204.1 MB 24.7 MB/s eta 0:00:06\n",
      "   ---------------- ----------------------- 83.9/204.1 MB 24.2 MB/s eta 0:00:05\n",
      "   ----------------- ---------------------- 87.3/204.1 MB 23.7 MB/s eta 0:00:05\n",
      "   ----------------- ---------------------- 91.0/204.1 MB 23.4 MB/s eta 0:00:05\n",
      "   ------------------ --------------------- 94.6/204.1 MB 23.1 MB/s eta 0:00:05\n",
      "   ------------------- -------------------- 98.0/204.1 MB 22.8 MB/s eta 0:00:05\n",
      "   ------------------- ------------------- 101.4/204.1 MB 22.4 MB/s eta 0:00:05\n",
      "   -------------------- ------------------ 104.9/204.1 MB 22.2 MB/s eta 0:00:05\n",
      "   -------------------- ------------------ 108.5/204.1 MB 21.9 MB/s eta 0:00:05\n",
      "   --------------------- ----------------- 112.2/204.1 MB 21.8 MB/s eta 0:00:05\n",
      "   ---------------------- ---------------- 115.6/204.1 MB 21.6 MB/s eta 0:00:05\n",
      "   ---------------------- ---------------- 119.3/204.1 MB 21.4 MB/s eta 0:00:04\n",
      "   ----------------------- --------------- 122.7/204.1 MB 21.3 MB/s eta 0:00:04\n",
      "   ------------------------ -------------- 126.4/204.1 MB 21.1 MB/s eta 0:00:04\n",
      "   ------------------------ -------------- 128.7/204.1 MB 20.8 MB/s eta 0:00:04\n",
      "   ------------------------- ------------- 132.1/204.1 MB 20.7 MB/s eta 0:00:04\n",
      "   ------------------------- ------------- 135.8/204.1 MB 20.6 MB/s eta 0:00:04\n",
      "   -------------------------- ------------ 139.7/204.1 MB 20.5 MB/s eta 0:00:04\n",
      "   --------------------------- ----------- 143.4/204.1 MB 20.4 MB/s eta 0:00:03\n",
      "   ---------------------------- ---------- 147.1/204.1 MB 20.2 MB/s eta 0:00:03\n",
      "   ---------------------------- ---------- 151.0/204.1 MB 20.2 MB/s eta 0:00:03\n",
      "   ----------------------------- --------- 154.7/204.1 MB 20.1 MB/s eta 0:00:03\n",
      "   ------------------------------ -------- 158.1/204.1 MB 20.0 MB/s eta 0:00:03\n",
      "   ------------------------------ -------- 162.0/204.1 MB 20.0 MB/s eta 0:00:03\n",
      "   ------------------------------- ------- 165.7/204.1 MB 19.9 MB/s eta 0:00:02\n",
      "   -------------------------------- ------ 169.3/204.1 MB 19.8 MB/s eta 0:00:02\n",
      "   --------------------------------- ----- 173.3/204.1 MB 19.8 MB/s eta 0:00:02\n",
      "   --------------------------------- ----- 176.9/204.1 MB 19.7 MB/s eta 0:00:02\n",
      "   ---------------------------------- ---- 180.6/204.1 MB 19.6 MB/s eta 0:00:02\n",
      "   ----------------------------------- --- 184.3/204.1 MB 19.6 MB/s eta 0:00:02\n",
      "   ----------------------------------- --- 188.0/204.1 MB 19.5 MB/s eta 0:00:01\n",
      "   ------------------------------------ -- 191.6/204.1 MB 19.5 MB/s eta 0:00:01\n",
      "   ------------------------------------- - 195.6/204.1 MB 19.5 MB/s eta 0:00:01\n",
      "   --------------------------------------  199.2/204.1 MB 19.4 MB/s eta 0:00:01\n",
      "   --------------------------------------  202.9/204.1 MB 19.4 MB/s eta 0:00:01\n",
      "   --------------------------------------  203.9/204.1 MB 19.4 MB/s eta 0:00:01\n",
      "   --------------------------------------- 204.1/204.1 MB 18.9 MB/s eta 0:00:00\n",
      "Using cached sympy-1.13.1-py3-none-any.whl (6.2 MB)\n",
      "Downloading torchvision-0.21.0-cp39-cp39-win_amd64.whl (1.6 MB)\n",
      "   ---------------------------------------- 0.0/1.6 MB ? eta -:--:--\n",
      "   ---------------------------------------- 1.6/1.6 MB 16.6 MB/s eta 0:00:00\n",
      "Downloading pillow-11.2.1-cp39-cp39-win_amd64.whl (2.7 MB)\n",
      "   ---------------------------------------- 0.0/2.7 MB ? eta -:--:--\n",
      "   ---------------------------------------- 2.7/2.7 MB 15.5 MB/s eta 0:00:00\n",
      "Using cached filelock-3.18.0-py3-none-any.whl (16 kB)\n",
      "Using cached fsspec-2025.3.2-py3-none-any.whl (194 kB)\n",
      "Using cached jinja2-3.1.6-py3-none-any.whl (134 kB)\n",
      "Downloading networkx-3.2.1-py3-none-any.whl (1.6 MB)\n",
      "   ---------------------------------------- 0.0/1.6 MB ? eta -:--:--\n",
      "   ---------------------------------------- 1.6/1.6 MB 17.5 MB/s eta 0:00:00\n",
      "Using cached mpmath-1.3.0-py3-none-any.whl (536 kB)\n",
      "Installing collected packages: mpmath, sympy, pillow, networkx, jinja2, fsspec, filelock, torch, torchvision\n",
      "Successfully installed filelock-3.18.0 fsspec-2025.3.2 jinja2-3.1.6 mpmath-1.3.0 networkx-3.2.1 pillow-11.2.1 sympy-1.13.1 torch-2.6.0 torchvision-0.21.0\n"
     ]
    }
   ],
   "source": [
    "# !pip install torch torchvision"
   ]
  },
  {
   "cell_type": "code",
   "execution_count": null,
   "id": "a68f99fc",
   "metadata": {},
   "outputs": [
    {
     "name": "stdout",
     "output_type": "stream",
     "text": [
      "Collecting onnx\n",
      "  Downloading onnx-1.17.0-cp39-cp39-win_amd64.whl.metadata (16 kB)\n",
      "Collecting onnxruntime\n",
      "  Downloading onnxruntime-1.19.2-cp39-cp39-win_amd64.whl.metadata (4.7 kB)\n",
      "Collecting tf2onnx\n",
      "  Using cached tf2onnx-1.16.1-py3-none-any.whl.metadata (1.3 kB)\n",
      "Collecting onnx-simplifier\n",
      "  Downloading onnx_simplifier-0.4.36-cp39-cp39-win_amd64.whl.metadata (4.4 kB)\n",
      "Requirement already satisfied: numpy>=1.20 in f:\\anaconda\\envs\\tfx\\lib\\site-packages (from onnx) (1.26.4)\n",
      "Collecting protobuf>=3.20.2 (from onnx)\n",
      "  Downloading protobuf-6.30.2-cp39-cp39-win_amd64.whl.metadata (593 bytes)\n",
      "Collecting coloredlogs (from onnxruntime)\n",
      "  Using cached coloredlogs-15.0.1-py2.py3-none-any.whl.metadata (12 kB)\n",
      "Requirement already satisfied: flatbuffers in f:\\anaconda\\envs\\tfx\\lib\\site-packages (from onnxruntime) (25.2.10)\n",
      "Requirement already satisfied: packaging in f:\\anaconda\\envs\\tfx\\lib\\site-packages (from onnxruntime) (24.2)\n",
      "Requirement already satisfied: sympy in f:\\anaconda\\envs\\tfx\\lib\\site-packages (from onnxruntime) (1.13.1)\n",
      "Requirement already satisfied: requests in f:\\anaconda\\envs\\tfx\\lib\\site-packages (from tf2onnx) (2.32.3)\n",
      "Requirement already satisfied: six in f:\\anaconda\\envs\\tfx\\lib\\site-packages (from tf2onnx) (1.17.0)\n",
      "Collecting protobuf>=3.20.2 (from onnx)\n",
      "  Downloading protobuf-3.20.3-cp39-cp39-win_amd64.whl.metadata (699 bytes)\n",
      "Collecting rich (from onnx-simplifier)\n",
      "  Using cached rich-14.0.0-py3-none-any.whl.metadata (18 kB)\n",
      "Collecting humanfriendly>=9.1 (from coloredlogs->onnxruntime)\n",
      "  Using cached humanfriendly-10.0-py2.py3-none-any.whl.metadata (9.2 kB)\n",
      "Requirement already satisfied: charset-normalizer<4,>=2 in f:\\anaconda\\envs\\tfx\\lib\\site-packages (from requests->tf2onnx) (3.4.1)\n",
      "Requirement already satisfied: idna<4,>=2.5 in f:\\anaconda\\envs\\tfx\\lib\\site-packages (from requests->tf2onnx) (3.10)\n",
      "Requirement already satisfied: urllib3<3,>=1.21.1 in f:\\anaconda\\envs\\tfx\\lib\\site-packages (from requests->tf2onnx) (2.4.0)\n",
      "Requirement already satisfied: certifi>=2017.4.17 in f:\\anaconda\\envs\\tfx\\lib\\site-packages (from requests->tf2onnx) (2025.1.31)\n",
      "Collecting markdown-it-py>=2.2.0 (from rich->onnx-simplifier)\n",
      "  Using cached markdown_it_py-3.0.0-py3-none-any.whl.metadata (6.9 kB)\n",
      "Requirement already satisfied: pygments<3.0.0,>=2.13.0 in f:\\anaconda\\envs\\tfx\\lib\\site-packages (from rich->onnx-simplifier) (2.19.1)\n",
      "Requirement already satisfied: typing-extensions<5.0,>=4.0.0 in f:\\anaconda\\envs\\tfx\\lib\\site-packages (from rich->onnx-simplifier) (4.13.2)\n",
      "Requirement already satisfied: mpmath<1.4,>=1.1.0 in f:\\anaconda\\envs\\tfx\\lib\\site-packages (from sympy->onnxruntime) (1.3.0)\n",
      "Collecting pyreadline3 (from humanfriendly>=9.1->coloredlogs->onnxruntime)\n",
      "  Using cached pyreadline3-3.5.4-py3-none-any.whl.metadata (4.7 kB)\n",
      "Collecting mdurl~=0.1 (from markdown-it-py>=2.2.0->rich->onnx-simplifier)\n",
      "  Using cached mdurl-0.1.2-py3-none-any.whl.metadata (1.6 kB)\n",
      "Downloading onnx-1.17.0-cp39-cp39-win_amd64.whl (14.5 MB)\n",
      "   ---------------------------------------- 0.0/14.5 MB ? eta -:--:--\n",
      "   - -------------------------------------- 0.5/14.5 MB 4.2 MB/s eta 0:00:04\n",
      "   ------------ --------------------------- 4.5/14.5 MB 14.9 MB/s eta 0:00:01\n",
      "   ---------------------------------------- 14.5/14.5 MB 32.6 MB/s eta 0:00:00\n",
      "Downloading onnxruntime-1.19.2-cp39-cp39-win_amd64.whl (11.1 MB)\n",
      "   ---------------------------------------- 0.0/11.1 MB ? eta -:--:--\n",
      "   ---------------------------------------- 11.1/11.1 MB 57.6 MB/s eta 0:00:00\n",
      "Using cached tf2onnx-1.16.1-py3-none-any.whl (455 kB)\n",
      "Downloading onnx_simplifier-0.4.36-cp39-cp39-win_amd64.whl (1.3 MB)\n",
      "   ---------------------------------------- 0.0/1.3 MB ? eta -:--:--\n",
      "   ---------------------------------------- 1.3/1.3 MB 68.4 MB/s eta 0:00:00\n",
      "Downloading protobuf-3.20.3-cp39-cp39-win_amd64.whl (904 kB)\n",
      "   ---------------------------------------- 0.0/904.2 kB ? eta -:--:--\n",
      "   --------------------------------------- 904.2/904.2 kB 42.8 MB/s eta 0:00:00\n",
      "Using cached coloredlogs-15.0.1-py2.py3-none-any.whl (46 kB)\n",
      "Using cached rich-14.0.0-py3-none-any.whl (243 kB)\n",
      "Using cached humanfriendly-10.0-py2.py3-none-any.whl (86 kB)\n",
      "Using cached markdown_it_py-3.0.0-py3-none-any.whl (87 kB)\n",
      "Using cached mdurl-0.1.2-py3-none-any.whl (10.0 kB)\n",
      "Using cached pyreadline3-3.5.4-py3-none-any.whl (83 kB)\n",
      "Installing collected packages: pyreadline3, protobuf, mdurl, onnx, markdown-it-py, humanfriendly, tf2onnx, rich, coloredlogs, onnxruntime, onnx-simplifier\n",
      "  Attempting uninstall: protobuf\n",
      "    Found existing installation: protobuf 3.19.6\n",
      "    Uninstalling protobuf-3.19.6:\n",
      "      Successfully uninstalled protobuf-3.19.6\n",
      "Successfully installed coloredlogs-15.0.1 humanfriendly-10.0 markdown-it-py-3.0.0 mdurl-0.1.2 onnx-1.17.0 onnx-simplifier-0.4.36 onnxruntime-1.19.2 protobuf-3.20.3 pyreadline3-3.5.4 rich-14.0.0 tf2onnx-1.16.1\n"
     ]
    },
    {
     "name": "stderr",
     "output_type": "stream",
     "text": [
      "  WARNING: Failed to remove contents in a temporary directory 'F:\\Anaconda\\envs\\tfx\\Lib\\site-packages\\google\\~rotobuf'.\n",
      "  You can safely remove it manually.\n",
      "ERROR: pip's dependency resolver does not currently take into account all the packages that are installed. This behaviour is the source of the following dependency conflicts.\n",
      "tensorboard 2.10.1 requires protobuf<3.20,>=3.9.2, but you have protobuf 3.20.3 which is incompatible.\n",
      "tensorflow 2.10.1 requires protobuf<3.20,>=3.9.2, but you have protobuf 3.20.3 which is incompatible.\n"
     ]
    }
   ],
   "source": [
    "# Cài ONNX + tf2onnx\n",
    "# !pip install onnx onnxruntime tf2onnx onnx-simplifier"
   ]
  },
  {
   "cell_type": "code",
   "execution_count": 6,
   "id": "8f49d4d2",
   "metadata": {},
   "outputs": [
    {
     "name": "stdout",
     "output_type": "stream",
     "text": [
      "[PhysicalDevice(name='/physical_device:GPU:0', device_type='GPU')]\n"
     ]
    }
   ],
   "source": [
    "import tensorflow as tf\n",
    "print(tf.config.list_physical_devices('GPU'))"
   ]
  },
  {
   "cell_type": "code",
   "execution_count": 8,
   "id": "8668f831",
   "metadata": {},
   "outputs": [
    {
     "name": "stdout",
     "output_type": "stream",
     "text": [
      "nvcc: NVIDIA (R) Cuda compiler driver\n",
      "Copyright (c) 2005-2023 NVIDIA Corporation\n",
      "Built on Tue_Jun_13_19:42:34_Pacific_Daylight_Time_2023\n",
      "Cuda compilation tools, release 12.2, V12.2.91\n",
      "Build cuda_12.2.r12.2/compiler.32965470_0\n"
     ]
    }
   ],
   "source": [
    "# kiểm tra version cuda\n",
    "!nvcc --version"
   ]
  },
  {
   "cell_type": "code",
   "execution_count": 15,
   "id": "f389cb95",
   "metadata": {},
   "outputs": [
    {
     "name": "stdout",
     "output_type": "stream",
     "text": [
      "TensorFlow version: 2.10.1\n",
      "Num GPUs Available: 1\n",
      "CUDA version (compile time): 64_112\n",
      "cuDNN version (compile time): 64_8\n"
     ]
    }
   ],
   "source": [
    "import tensorflow as tf\n",
    "import os\n",
    "\n",
    "# Kiểm tra phiên bản TensorFlow\n",
    "print(\"TensorFlow version:\", tf.__version__)\n",
    "\n",
    "# Kiểm tra GPU\n",
    "gpus = tf.config.list_physical_devices('GPU')\n",
    "print(\"Num GPUs Available:\", len(gpus))\n",
    "\n",
    "# In thông tin CUDA/cuDNN từ môi trường biên dịch\n",
    "print(\"CUDA version (compile time):\", tf.sysconfig.get_build_info().get(\"cuda_version\", \"Unknown\"))\n",
    "print(\"cuDNN version (compile time):\", tf.sysconfig.get_build_info().get(\"cudnn_version\", \"Unknown\"))\n"
   ]
  },
  {
   "cell_type": "markdown",
   "id": "09f503cd",
   "metadata": {},
   "source": [
    "# Convert .pt sang ONNX"
   ]
  },
  {
   "cell_type": "code",
   "execution_count": 17,
   "id": "6ba72ba7",
   "metadata": {},
   "outputs": [
    {
     "name": "stderr",
     "output_type": "stream",
     "text": [
      "python: can't open file 'd:\\Vision-For-All\\yolo-implement-to-android\\export.py': [Errno 2] No such file or directory\n"
     ]
    }
   ],
   "source": [
    "!python export.py --weights yolov5s.pt --include onnx --img 640 --opset 12"
   ]
  },
  {
   "cell_type": "markdown",
   "id": "dfab271e",
   "metadata": {},
   "source": [
    "# ONNX → TensorFlow SavedModel"
   ]
  },
  {
   "cell_type": "markdown",
   "id": "ff26fdae",
   "metadata": {},
   "source": [
    "# SavedModel → TFLite"
   ]
  },
  {
   "cell_type": "markdown",
   "id": "19ac484e",
   "metadata": {},
   "source": []
  }
 ],
 "metadata": {
  "kernelspec": {
   "display_name": "tfx",
   "language": "python",
   "name": "python3"
  },
  "language_info": {
   "codemirror_mode": {
    "name": "ipython",
    "version": 3
   },
   "file_extension": ".py",
   "mimetype": "text/x-python",
   "name": "python",
   "nbconvert_exporter": "python",
   "pygments_lexer": "ipython3",
   "version": "3.9.21"
  }
 },
 "nbformat": 4,
 "nbformat_minor": 5
}
